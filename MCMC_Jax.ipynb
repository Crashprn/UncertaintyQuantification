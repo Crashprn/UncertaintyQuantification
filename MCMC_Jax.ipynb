{
 "cells": [
  {
   "cell_type": "code",
   "execution_count": 7,
   "metadata": {},
   "outputs": [
    {
     "data": {
      "text/plain": [
       "[cuda(id=0)]"
      ]
     },
     "metadata": {},
     "output_type": "display_data"
    },
    {
     "name": "stdout",
     "output_type": "stream",
     "text": [
      "The autoreload extension is already loaded. To reload it, use:\n",
      "  %reload_ext autoreload\n"
     ]
    }
   ],
   "source": [
    "import numpy as np\n",
    "import numpyro\n",
    "from numpyro import distributions as dist\n",
    "from numpyro.infer import MCMC, HMC, Predictive\n",
    "from numpyro.infer.initialization import init_to_value\n",
    "\n",
    "import jax\n",
    "from jax import random, vmap\n",
    "import jax.numpy as jnp\n",
    "from jax.nn import relu\n",
    "\n",
    "display(jax.devices())\n",
    "\n",
    "import pickle\n",
    "\n",
    "from src.data_gens.TurbulenceClosureDataGenerator import TurbulenceClosureDataGenerator\n",
    "from src.utils.plot_utils import plot_data_generation_diff, plot_heat_map_compare, plot_heat_map_loss, plot_heat_map_3D\n",
    "from src.utils.data_utils import *\n",
    "\n",
    "\n",
    "%load_ext autoreload\n",
    "%autoreload 2\n",
    "\n",
    "%matplotlib inline"
   ]
  },
  {
   "cell_type": "code",
   "execution_count": 3,
   "metadata": {},
   "outputs": [],
   "source": [
    "OBS_NOISE = 0.1\n",
    "\n",
    "def nonlin(x):\n",
    "    return relu(x)\n",
    "\n",
    "def model(X, Y, D_H, D_Y=3):\n",
    "    N, D_X = X.shape\n",
    "\n",
    "    # First Layer\n",
    "    w1 = numpyro.sample(\"w1\", dist.Normal(jnp.zeros((D_X, D_H)), jnp.ones((D_X, D_H))))\n",
    "    b1 = numpyro.sample(\"b1\", dist.Normal(jnp.zeros(D_H), jnp.ones(D_H)))\n",
    "    z1 = nonlin(jnp.dot(X, w1) + b1)\n",
    "\n",
    "    # Second Layer\n",
    "    w2 = numpyro.sample(\"w2\", dist.Normal(jnp.zeros((D_H, D_H)), jnp.ones((D_H, D_H))))\n",
    "    b2 = numpyro.sample(\"b2\", dist.Normal(jnp.zeros(D_H), jnp.ones(D_H)))\n",
    "    z2 = nonlin(jnp.dot(z1, w2) + b2)\n",
    "\n",
    "    # Third Layer\n",
    "    w3 = numpyro.sample(\"w3\", dist.Normal(jnp.zeros((D_H, D_H)), jnp.ones((D_H, D_H))))\n",
    "    b3 = numpyro.sample(\"b3\", dist.Normal(jnp.zeros(D_H), jnp.ones(D_H)))\n",
    "    z3 = nonlin(jnp.dot(z2, w3) + b3)\n",
    "\n",
    "    # Output Layer\n",
    "    w4 = numpyro.sample(\"w4\", dist.Normal(jnp.zeros((D_H, D_Y)), jnp.ones((D_H, D_Y))))\n",
    "    b4 = numpyro.sample(\"b4\", dist.Normal(jnp.zeros(D_Y), jnp.ones(D_Y)))\n",
    "    z4 = jnp.dot(z3, w4) + b4\n",
    "\n",
    "    sigma = jnp.eye(D_Y) * OBS_NOISE\n",
    "\n",
    "    with numpyro.plate(\"data\", N):\n",
    "        numpyro.sample(\"Y\", dist.MultivariateNormal(z4, sigma), obs=Y)"
   ]
  },
  {
   "cell_type": "code",
   "execution_count": 4,
   "metadata": {},
   "outputs": [
    {
     "name": "stderr",
     "output_type": "stream",
     "text": [
      "/home/codygrogan/PythonProjects/Uncertainty_Quantification/src/data_gens/TurbulenceClosureDataGenerator.py:88: RuntimeWarning: invalid value encountered in arccos\n",
      "  theta = np.arccos((-b/2)/np.sqrt(-a**3/27))\n"
     ]
    },
    {
     "data": {
      "image/png": "[encoded data removed]",
      "text/plain": [
       "<Figure size 500x500 with 1 Axes>"
      ]
     },
     "metadata": {},
     "output_type": "display_data"
    }
   ],
   "source": [
    "# Data generators for the different turbulence closures\n",
    "SSG_gen = TurbulenceClosureDataGenerator('SSG')\n",
    "\n",
    "# Defining the ranges for the different scales\n",
    "log = (-.5, 2.0)\n",
    "\n",
    "# Defining whether to exclude certain areas of the data\n",
    "exclude_area = False\n",
    "include_area = False\n",
    "drop_eta_1 = False\n",
    "drop_eta_2 = False\n",
    "add_noise = False\n",
    "\n",
    "# Defining area to exclude datapoints\n",
    "eta_1_range = (10**np.array([-.3, 0.0]))**2\n",
    "eta_2_range = (10**np.array([-.3, 0.0]))**2\n",
    "\n",
    "etas_train, gs_train = generate_log_data(SSG_gen, log, 80_000, shuffle=True, gen_type=\"All\")\n",
    "\n",
    "etas_test, gs_test = generate_log_data(SSG_gen, log, 600, shuffle=True, gen_type=\"All\")\n",
    "\n",
    "if not drop_eta_1 and not drop_eta_2:\n",
    "    plot_data_generation_diff(etas_train)"
   ]
  },
  {
   "cell_type": "code",
   "execution_count": 5,
   "metadata": {},
   "outputs": [],
   "source": [
    "x_scaler = CustomScalerX().fit(etas_train)\n",
    "y_scaler = CustomScalerY().fit(gs_train)\n",
    "\n",
    "x_scaled_train = x_scaler.transform(etas_train)\n",
    "y_scaled_train = y_scaler.transform(gs_train)\n",
    "\n",
    "x_scaled_test = x_scaler.transform(etas_test)\n",
    "y_scaled_test = y_scaler.transform(gs_test)\n",
    "\n",
    "x_train = jnp.array(x_scaled_train, dtype=jnp.float32)\n",
    "y_train = jnp.array(y_scaled_train, dtype=jnp.float32)"
   ]
  },
  {
   "cell_type": "code",
   "execution_count": 13,
   "metadata": {},
   "outputs": [
    {
     "name": "stdout",
     "output_type": "stream",
     "text": [
      "Number of Steps:  16673\n",
      "w1\n",
      "(2, 20)\n",
      "b1\n",
      "(20,)\n",
      "w2\n",
      "(20, 20)\n",
      "b2\n",
      "(20,)\n",
      "w3\n",
      "(20, 20)\n",
      "b3\n",
      "(20,)\n",
      "w4\n",
      "(20, 3)\n",
      "b4\n",
      "(3,)\n"
     ]
    }
   ],
   "source": [
    "sampler_params = {\n",
    "    \"num_warmup\": 1000,\n",
    "    \"num_samples\": 5000,\n",
    "    \"num_chains\": 1\n",
    "}\n",
    "\n",
    "#gold_step_size = 55e-5\n",
    "#gold_trajectory_length = 1.6501\n",
    "\n",
    "step_size = 15e-5\n",
    "trajectory_length = 2.501\n",
    "num_steps = int(np.ceil(trajectory_length // step_size))\n",
    "print(\"Number of Steps: \", num_steps)\n",
    "\n",
    "init_dict = pickle.load(open(\"NUTS_Initialize_large.pkl\", \"rb\"))\n",
    "\n",
    "for key, value in init_dict.items():\n",
    "    print(key)\n",
    "    init_dict[key] = jnp.array(value).T\n",
    "    print(init_dict[key].shape)"
   ]
  },
  {
   "cell_type": "code",
   "execution_count": 14,
   "metadata": {},
   "outputs": [
    {
     "name": "stderr",
     "output_type": "stream",
     "text": [
      "warmup:   0%|          | 3/6000 [00:55<30:35:02, 18.36s/it, 16674 steps of size 1.50e-04. acc. prob=0.00]"
     ]
    }
   ],
   "source": [
    "kernel = HMC(model, step_size=step_size, trajectory_length=trajectory_length, adapt_step_size=False, init_strategy=init_to_value(values=init_dict))\n",
    "\n",
    "mcmc = MCMC(kernel, **sampler_params)\n",
    "\n",
    "rng_key = random.PRNGKey(0)\n",
    "\n",
    "mcmc.run(rng_key, x_train, y_train, 20)"
   ]
  }
 ],
 "metadata": {
  "kernelspec": {
   "display_name": "venv",
   "language": "python",
   "name": "python3"
  },
  "language_info": {
   "codemirror_mode": {
    "name": "ipython",
    "version": 3
   },
   "file_extension": ".py",
   "mimetype": "text/x-python",
   "name": "python",
   "nbconvert_exporter": "python",
   "pygments_lexer": "ipython3",
   "version": "3.12.4"
  }
 },
 "nbformat": 4,
 "nbformat_minor": 2
}

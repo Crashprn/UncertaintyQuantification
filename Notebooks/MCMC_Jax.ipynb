{
 "cells": [
  {
   "cell_type": "markdown",
   "metadata": {},
   "source": [
    "## Imports"
   ]
  },
  {
   "cell_type": "code",
   "execution_count": 1,
   "metadata": {},
   "outputs": [
    {
     "name": "stderr",
     "output_type": "stream",
     "text": [
      "/home/codygrogan/PythonProjects/Uncertainty_Quantification/venv/lib64/python3.12/site-packages/tqdm/auto.py:21: TqdmWarning: IProgress not found. Please update jupyter and ipywidgets. See https://ipywidgets.readthedocs.io/en/stable/user_install.html\n",
      "  from .autonotebook import tqdm as notebook_tqdm\n"
     ]
    },
    {
     "data": {
      "text/plain": [
       "[cuda(id=0)]"
      ]
     },
     "metadata": {},
     "output_type": "display_data"
    }
   ],
   "source": [
    "import numpy as np\n",
    "import numpyro\n",
    "from numpyro import distributions as dist\n",
    "from numpyro.infer import MCMC, HMC, Predictive\n",
    "from numpyro.infer.initialization import init_to_value\n",
    "\n",
    "import jax\n",
    "from jax import random, vmap\n",
    "import jax.numpy as jnp\n",
    "from jax.nn import relu\n",
    "\n",
    "from jax import config\n",
    "\n",
    "config.update(\"jax_enable_x64\", True)\n",
    "\n",
    "display(jax.devices())\n",
    "\n",
    "import pickle\n",
    "\n",
    "import os\n",
    "import sys\n",
    "\n",
    "sys.path.append(os.path.abspath(os.path.join('..')))\n",
    "\n",
    "from src.models.NumPyroModels import NumPyroModel\n",
    "from src.data_gens.TurbulenceClosureDataGenerator import TurbulenceClosureDataGenerator\n",
    "from src.utils.plot_utils import plot_data_generation_diff, plot_heat_map_compare, plot_heat_map_loss, plot_heat_map_3D\n",
    "from src.utils.data_utils import *\n",
    "from src.utils.numpyro_utils import *\n",
    "\n",
    "\n",
    "%load_ext autoreload\n",
    "%autoreload 2\n",
    "\n",
    "%matplotlib inline"
   ]
  },
  {
   "cell_type": "markdown",
   "metadata": {},
   "source": [
    "## Creating Data Set"
   ]
  },
  {
   "cell_type": "code",
   "execution_count": 2,
   "metadata": {},
   "outputs": [
    {
     "name": "stderr",
     "output_type": "stream",
     "text": [
      "/home/codygrogan/PythonProjects/Uncertainty_Quantification/src/data_gens/TurbulenceClosureDataGenerator.py:89: RuntimeWarning: invalid value encountered in arccos\n",
      "  theta = np.arccos((-b/2)/np.sqrt(-a**3/27))\n"
     ]
    },
    {
     "data": {
      "image/png": "[encoded data removed]",
      "text/plain": [
       "<Figure size 500x500 with 1 Axes>"
      ]
     },
     "metadata": {},
     "output_type": "display_data"
    }
   ],
   "source": [
    "# Data generators for the different turbulence closures\n",
    "SSG_gen = TurbulenceClosureDataGenerator('SSG')\n",
    "\n",
    "# Defining the ranges for the different scales\n",
    "log = (-.5, 2.0)\n",
    "\n",
    "# Defining whether to exclude certain areas of the data\n",
    "exclude_area = False\n",
    "include_area = False\n",
    "drop_eta_1 = False\n",
    "drop_eta_2 = False\n",
    "add_noise = False\n",
    "\n",
    "# Defining area to exclude datapoints\n",
    "eta_1_range = (10**np.array([-.3, 0.0]))**2\n",
    "eta_2_range = (10**np.array([-.3, 0.0]))**2\n",
    "\n",
    "etas_train, gs_train = generate_log_data(SSG_gen, log, 80_000, shuffle=True, gen_type=\"All\")\n",
    "\n",
    "etas_test, gs_test = generate_log_data(SSG_gen, log, 600, shuffle=True, gen_type=\"All\")\n",
    "\n",
    "if not drop_eta_1 and not drop_eta_2:\n",
    "    plot_data_generation_diff(etas_train)"
   ]
  },
  {
   "cell_type": "markdown",
   "metadata": {},
   "source": [
    "## Scaling Data and Converting"
   ]
  },
  {
   "cell_type": "code",
   "execution_count": 3,
   "metadata": {},
   "outputs": [],
   "source": [
    "x_scaler = CustomScalerX().fit(etas_train)\n",
    "y_scaler = CustomScalerY().fit(gs_train)\n",
    "\n",
    "x_scaled_train = x_scaler.transform(etas_train)\n",
    "y_scaled_train = y_scaler.transform(gs_train)\n",
    "\n",
    "x_scaled_test = x_scaler.transform(etas_test)\n",
    "y_scaled_test = y_scaler.transform(gs_test)\n",
    "\n",
    "x_train = jnp.array(x_scaled_train, dtype=jnp.float64)\n",
    "y_train = jnp.array(y_scaled_train, dtype=jnp.float64)"
   ]
  },
  {
   "cell_type": "markdown",
   "metadata": {},
   "source": [
    "## Network and HMC parameters"
   ]
  },
  {
   "cell_type": "code",
   "execution_count": 4,
   "metadata": {},
   "outputs": [
    {
     "name": "stdout",
     "output_type": "stream",
     "text": [
      "Number of Steps:  5001\n",
      "w1\n",
      "(2, 20)\n",
      "b1\n",
      "(20,)\n",
      "w2\n",
      "(20, 20)\n",
      "b2\n",
      "(20,)\n",
      "w3\n",
      "(20, 20)\n",
      "b3\n",
      "(20,)\n",
      "w4\n",
      "(20, 3)\n",
      "b4\n",
      "(3,)\n"
     ]
    }
   ],
   "source": [
    "hmc_checkpoints = \"../Model_Checkpoints/HMC/\"\n",
    "\n",
    "#gold_step_size = 55e-5\n",
    "#gold_trajectory_length = 1.6501\n",
    "\n",
    "step_size = 50e-5\n",
    "trajectory_length = 2.501\n",
    "num_steps = int(np.ceil(trajectory_length // step_size))\n",
    "print(\"Number of Steps: \", num_steps)\n",
    "\n",
    "init_dict = pickle.load(open(hmc_checkpoints+\"HMC_Initialize_large.pkl\", \"rb\"))\n",
    "\n",
    "for key, value in init_dict.items():\n",
    "    print(key)\n",
    "    init_dict[key] = jnp.array(value.astype(jnp.float64).T)\n",
    "    print(init_dict[key].shape)\n",
    "\n",
    "net_params = {\n",
    "    \"input_dim\": 2,\n",
    "    \"output_dim\": 3,\n",
    "    \"hidden_dim\": 20,\n",
    "    \"num_layers\": 4,\n",
    "    \"data_size\": len(x_train),\n",
    "    \"layer_prior_scale\": 5.0,\n",
    "}\n",
    "\n",
    "hmc_params = {\n",
    "    \"model\": NumPyroModel(**net_params),\n",
    "    \"step_size\": step_size,\n",
    "    \"trajectory_length\": trajectory_length,\n",
    "    \"adapt_step_size\": False,\n",
    "    \"dense_mass\": True,\n",
    "    \"init_strategy\": init_to_value(values=init_dict),\n",
    "}\n",
    "\n",
    "mcmc_params = {\n",
    "    \"num_warmup\": 4,\n",
    "    \"num_samples\": 1,\n",
    "    \"num_chains\": 1\n",
    "}\n",
    "\n"
   ]
  },
  {
   "cell_type": "markdown",
   "metadata": {},
   "source": [
    "## Run Training"
   ]
  },
  {
   "cell_type": "code",
   "execution_count": 5,
   "metadata": {},
   "outputs": [
    {
     "name": "stdout",
     "output_type": "stream",
     "text": [
      "Layer 1: 2 -> 20\n",
      "Layer 2: 20 -> 20\n",
      "Layer 3: 20 -> 20\n",
      "Layer 4: 20 -> 3\n",
      "\n"
     ]
    },
    {
     "ename": "KeyboardInterrupt",
     "evalue": "",
     "output_type": "error",
     "traceback": [
      "\u001b[0;31m---------------------------------------------------------------------------\u001b[0m",
      "\u001b[0;31mKeyboardInterrupt\u001b[0m                         Traceback (most recent call last)",
      "Cell \u001b[0;32mIn[5], line 7\u001b[0m\n\u001b[1;32m      3\u001b[0m kernel \u001b[38;5;241m=\u001b[39m HMC(\u001b[38;5;241m*\u001b[39m\u001b[38;5;241m*\u001b[39mhmc_params)\n\u001b[1;32m      5\u001b[0m mcmc \u001b[38;5;241m=\u001b[39m MCMC(kernel, \u001b[38;5;241m*\u001b[39m\u001b[38;5;241m*\u001b[39mmcmc_params)\n\u001b[0;32m----> 7\u001b[0m rng_key \u001b[38;5;241m=\u001b[39m \u001b[43mrandom\u001b[49m\u001b[38;5;241m.\u001b[39mPRNGKey(\u001b[38;5;241m0\u001b[39m)\n\u001b[1;32m      9\u001b[0m mcmc\u001b[38;5;241m.\u001b[39mrun(rng_key, x_train, y_train)\n",
      "File \u001b[0;32m~/PythonProjects/Uncertainty_Quantification/venv/lib64/python3.12/site-packages/debugpy/_vendored/pydevd/_pydevd_bundle/pydevd_frame.py:988\u001b[0m, in \u001b[0;36mPyDBFrame.trace_dispatch\u001b[0;34m(self, frame, event, arg)\u001b[0m\n\u001b[1;32m    986\u001b[0m \u001b[38;5;66;03m# if thread has a suspend flag, we suspend with a busy wait\u001b[39;00m\n\u001b[1;32m    987\u001b[0m \u001b[38;5;28;01mif\u001b[39;00m info\u001b[38;5;241m.\u001b[39mpydev_state \u001b[38;5;241m==\u001b[39m STATE_SUSPEND:\n\u001b[0;32m--> 988\u001b[0m     \u001b[38;5;28;43mself\u001b[39;49m\u001b[38;5;241;43m.\u001b[39;49m\u001b[43mdo_wait_suspend\u001b[49m\u001b[43m(\u001b[49m\u001b[43mthread\u001b[49m\u001b[43m,\u001b[49m\u001b[43m \u001b[49m\u001b[43mframe\u001b[49m\u001b[43m,\u001b[49m\u001b[43m \u001b[49m\u001b[43mevent\u001b[49m\u001b[43m,\u001b[49m\u001b[43m \u001b[49m\u001b[43marg\u001b[49m\u001b[43m)\u001b[49m\n\u001b[1;32m    989\u001b[0m     \u001b[38;5;28;01mreturn\u001b[39;00m \u001b[38;5;28mself\u001b[39m\u001b[38;5;241m.\u001b[39mtrace_dispatch\n\u001b[1;32m    990\u001b[0m \u001b[38;5;28;01melse\u001b[39;00m:\n",
      "File \u001b[0;32m~/PythonProjects/Uncertainty_Quantification/venv/lib64/python3.12/site-packages/debugpy/_vendored/pydevd/_pydevd_bundle/pydevd_frame.py:165\u001b[0m, in \u001b[0;36mPyDBFrame.do_wait_suspend\u001b[0;34m(self, *args, **kwargs)\u001b[0m\n\u001b[1;32m    164\u001b[0m \u001b[38;5;28;01mdef\u001b[39;00m \u001b[38;5;21mdo_wait_suspend\u001b[39m(\u001b[38;5;28mself\u001b[39m, \u001b[38;5;241m*\u001b[39margs, \u001b[38;5;241m*\u001b[39m\u001b[38;5;241m*\u001b[39mkwargs):\n\u001b[0;32m--> 165\u001b[0m     \u001b[38;5;28;43mself\u001b[39;49m\u001b[38;5;241;43m.\u001b[39;49m\u001b[43m_args\u001b[49m\u001b[43m[\u001b[49m\u001b[38;5;241;43m0\u001b[39;49m\u001b[43m]\u001b[49m\u001b[38;5;241;43m.\u001b[39;49m\u001b[43mdo_wait_suspend\u001b[49m\u001b[43m(\u001b[49m\u001b[38;5;241;43m*\u001b[39;49m\u001b[43margs\u001b[49m\u001b[43m,\u001b[49m\u001b[43m \u001b[49m\u001b[38;5;241;43m*\u001b[39;49m\u001b[38;5;241;43m*\u001b[39;49m\u001b[43mkwargs\u001b[49m\u001b[43m)\u001b[49m\n",
      "File \u001b[0;32m~/PythonProjects/Uncertainty_Quantification/venv/lib64/python3.12/site-packages/debugpy/_vendored/pydevd/pydevd.py:2070\u001b[0m, in \u001b[0;36mPyDB.do_wait_suspend\u001b[0;34m(self, thread, frame, event, arg, exception_type)\u001b[0m\n\u001b[1;32m   2067\u001b[0m             from_this_thread\u001b[38;5;241m.\u001b[39mappend(frame_custom_thread_id)\n\u001b[1;32m   2069\u001b[0m     \u001b[38;5;28;01mwith\u001b[39;00m \u001b[38;5;28mself\u001b[39m\u001b[38;5;241m.\u001b[39m_threads_suspended_single_notification\u001b[38;5;241m.\u001b[39mnotify_thread_suspended(thread_id, thread, stop_reason):\n\u001b[0;32m-> 2070\u001b[0m         keep_suspended \u001b[38;5;241m=\u001b[39m \u001b[38;5;28;43mself\u001b[39;49m\u001b[38;5;241;43m.\u001b[39;49m\u001b[43m_do_wait_suspend\u001b[49m\u001b[43m(\u001b[49m\u001b[43mthread\u001b[49m\u001b[43m,\u001b[49m\u001b[43m \u001b[49m\u001b[43mframe\u001b[49m\u001b[43m,\u001b[49m\u001b[43m \u001b[49m\u001b[43mevent\u001b[49m\u001b[43m,\u001b[49m\u001b[43m \u001b[49m\u001b[43marg\u001b[49m\u001b[43m,\u001b[49m\u001b[43m \u001b[49m\u001b[43msuspend_type\u001b[49m\u001b[43m,\u001b[49m\u001b[43m \u001b[49m\u001b[43mfrom_this_thread\u001b[49m\u001b[43m,\u001b[49m\u001b[43m \u001b[49m\u001b[43mframes_tracker\u001b[49m\u001b[43m)\u001b[49m\n\u001b[1;32m   2072\u001b[0m frames_list \u001b[38;5;241m=\u001b[39m \u001b[38;5;28;01mNone\u001b[39;00m\n\u001b[1;32m   2074\u001b[0m \u001b[38;5;28;01mif\u001b[39;00m keep_suspended:\n\u001b[1;32m   2075\u001b[0m     \u001b[38;5;66;03m# This means that we should pause again after a set next statement.\u001b[39;00m\n",
      "File \u001b[0;32m~/PythonProjects/Uncertainty_Quantification/venv/lib64/python3.12/site-packages/debugpy/_vendored/pydevd/pydevd.py:2106\u001b[0m, in \u001b[0;36mPyDB._do_wait_suspend\u001b[0;34m(self, thread, frame, event, arg, suspend_type, from_this_thread, frames_tracker)\u001b[0m\n\u001b[1;32m   2103\u001b[0m         \u001b[38;5;28mself\u001b[39m\u001b[38;5;241m.\u001b[39m_call_input_hook()\n\u001b[1;32m   2105\u001b[0m     \u001b[38;5;28mself\u001b[39m\u001b[38;5;241m.\u001b[39mprocess_internal_commands()\n\u001b[0;32m-> 2106\u001b[0m     \u001b[43mtime\u001b[49m\u001b[38;5;241;43m.\u001b[39;49m\u001b[43msleep\u001b[49m\u001b[43m(\u001b[49m\u001b[38;5;241;43m0.01\u001b[39;49m\u001b[43m)\u001b[49m\n\u001b[1;32m   2108\u001b[0m \u001b[38;5;28mself\u001b[39m\u001b[38;5;241m.\u001b[39mcancel_async_evaluation(get_current_thread_id(thread), \u001b[38;5;28mstr\u001b[39m(\u001b[38;5;28mid\u001b[39m(frame)))\n\u001b[1;32m   2110\u001b[0m \u001b[38;5;66;03m# process any stepping instructions\u001b[39;00m\n",
      "\u001b[0;31mKeyboardInterrupt\u001b[0m: "
     ]
    }
   ],
   "source": [
    "print(hmc_params[\"model\"])\n",
    "\n",
    "kernel = HMC(**hmc_params)\n",
    "\n",
    "mcmc = MCMC(kernel, **mcmc_params)\n",
    "\n",
    "rng_key = random.PRNGKey(0)\n",
    "\n",
    "mcmc.run(rng_key, x_train, y_train)"
   ]
  },
  {
   "cell_type": "markdown",
   "metadata": {},
   "source": [
    "## Saving MCMC Run"
   ]
  },
  {
   "cell_type": "code",
   "execution_count": 56,
   "metadata": {},
   "outputs": [],
   "source": [
    "save_prefix = f\"HMC_{mcmc_params['num_warmup']}_{mcmc_params['num_samples']}_{num_steps}\"\n",
    "\n",
    "save_numpyro_mcmc(mcmc, hmc_checkpoints, save_prefix)"
   ]
  },
  {
   "cell_type": "code",
   "execution_count": 16,
   "metadata": {},
   "outputs": [
    {
     "name": "stdout",
     "output_type": "stream",
     "text": [
      "b1 (200, 20)\n",
      "b2 (200, 20)\n",
      "b3 (200, 20)\n",
      "b4 (200, 3)\n",
      "w1 (200, 2, 20)\n",
      "w2 (200, 20, 20)\n",
      "w3 (200, 20, 20)\n",
      "w4 (200, 20, 3)\n"
     ]
    },
    {
     "data": {
      "image/png": "[encoded data removed]",
      "text/plain": [
       "<Figure size 640x480 with 1 Axes>"
      ]
     },
     "metadata": {},
     "output_type": "display_data"
    }
   ],
   "source": [
    "saves = \"Model_Checkpoints/HMC/HMC_100_100_5000\"\n",
    "num_samples = 2\n",
    "samples = []\n",
    "for i in range(num_samples):\n",
    "    sample = pickle.load(open(saves+f\"_samples_{i}.pickle\", \"rb\"))\n",
    "    samples.append(sample)\n",
    "\n",
    "samples_dict = {}\n",
    "\n",
    "for i in range(num_samples):\n",
    "    for key, value in samples[i].items():\n",
    "        if key in samples_dict:\n",
    "            samples_dict[key] = jnp.concatenate((samples_dict[key], value))\n",
    "        else:\n",
    "            samples_dict[key] = value\n",
    "\n",
    "for key, value in samples_dict.items():\n",
    "    print(key, value.shape)\n",
    "\n",
    "import matplotlib.pyplot as plt\n",
    "\n",
    "params = samples_dict['w1']\n",
    "\n",
    "ind1 = 4\n",
    "ind2 = 1\n",
    "for i in range(1):\n",
    "    plt.plot(params[:, ind1, ind2], label=f\"Weight: [{ind1},{ind2}]---Chain {i}\")\n",
    "\n",
    "plt.legend()\n",
    "plt.show()"
   ]
  }
 ],
 "metadata": {
  "kernelspec": {
   "display_name": "venv",
   "language": "python",
   "name": "python3"
  },
  "language_info": {
   "codemirror_mode": {
    "name": "ipython",
    "version": 3
   },
   "file_extension": ".py",
   "mimetype": "text/x-python",
   "name": "python",
   "nbconvert_exporter": "python",
   "pygments_lexer": "ipython3",
   "version": "3.12.4"
  }
 },
 "nbformat": 4,
 "nbformat_minor": 2
}
